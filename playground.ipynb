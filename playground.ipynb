{
 "cells": [
  {
   "cell_type": "code",
   "execution_count": 20,
   "metadata": {},
   "outputs": [],
   "source": [
    "import torch\n",
    "from torch_geometric.datasets import Planetoid, WebKB, Actor, WikipediaNetwork\n",
    "from torch_geometric.utils import homophily, to_networkx\n",
    "import networkx as nx\n",
    "device = torch.device(\"cuda\" if torch.cuda.is_available() else \"cpu\")\n",
    "import numpy as np\n"
   ]
  },
  {
   "cell_type": "code",
   "execution_count": 21,
   "metadata": {},
   "outputs": [],
   "source": [
    "# name_data = 'Actor'\n",
    "# dataset = Actor(root = './data/' + \"Actor\")\n",
    "\n",
    "# name_data = 'Cora'\n",
    "# dataset = Planetoid(root= './data/' + name_data, name = name_data)\n",
    "\n",
    "# name_data = 'Cornell'\n",
    "# dataset = WebKB(root= './data/' + name_data, name = name_data)\n",
    "\n",
    "# name_data = 'Chameleon'\n",
    "# dataset = WikipediaNetwork(root= './data/' + name_data, name = name_data)\n",
    "\n",
    "# name_data = 'Squirrel'\n",
    "# dataset = WikipediaNetwork(root= './data/' + name_data, name = name_data)\n",
    "\n",
    "# name_data = 'Wisconsin'\n",
    "# dataset = WebKB(root= './data/' + name_data, name = name_data)\n",
    "    \n",
    "name_data = 'Texas'\n",
    "dataset = WebKB(root= './data/' + name_data, name = name_data)"
   ]
  },
  {
   "cell_type": "code",
   "execution_count": 22,
   "metadata": {},
   "outputs": [],
   "source": [
    "data = dataset[0]"
   ]
  },
  {
   "cell_type": "code",
   "execution_count": 23,
   "metadata": {},
   "outputs": [
    {
     "data": {
      "text/plain": [
       "0.06539812684059143"
      ]
     },
     "execution_count": 23,
     "metadata": {},
     "output_type": "execute_result"
    }
   ],
   "source": [
    "homophily(data.edge_index, data.y,method = \"node\")"
   ]
  },
  {
   "cell_type": "code",
   "execution_count": null,
   "metadata": {},
   "outputs": [],
   "source": []
  },
  {
   "cell_type": "code",
   "execution_count": null,
   "metadata": {},
   "outputs": [],
   "source": []
  },
  {
   "cell_type": "code",
   "execution_count": null,
   "metadata": {},
   "outputs": [],
   "source": []
  },
  {
   "cell_type": "code",
   "execution_count": null,
   "metadata": {},
   "outputs": [],
   "source": []
  }
 ],
 "metadata": {
  "interpreter": {
   "hash": "fc428ca26affa5af9dd5c051ba311245887c388f59b707cd674a8c125ddecc9a"
  },
  "kernelspec": {
   "display_name": "Python 3.9.6 64-bit ('torch': conda)",
   "language": "python",
   "name": "python3"
  },
  "language_info": {
   "codemirror_mode": {
    "name": "ipython",
    "version": 3
   },
   "file_extension": ".py",
   "mimetype": "text/x-python",
   "name": "python",
   "nbconvert_exporter": "python",
   "pygments_lexer": "ipython3",
   "version": "3.9.7"
  },
  "orig_nbformat": 4
 },
 "nbformat": 4,
 "nbformat_minor": 2
}
