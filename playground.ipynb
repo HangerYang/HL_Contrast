{
 "cells": [
  {
   "cell_type": "code",
   "execution_count": 119,
   "metadata": {},
   "outputs": [],
   "source": [
    "from torch_geometric.datasets import Planetoid\n",
    "import numpy as np\n",
    "from torch_geometric.nn.conv.gcn_conv import gcn_norm\n",
    "from torch_geometric.utils import get_laplacian, add_self_loops\n",
    "import torch\n",
    "from torch_sparse import SparseTensor, fill_diag, matmul, mul\n",
    "from torch_sparse import sum as sparsesum\n",
    "dataset = Planetoid(root = './data/cora', name = \"Cora\")\n",
    "data = dataset[0]"
   ]
  },
  {
   "cell_type": "code",
   "execution_count": null,
   "metadata": {},
   "outputs": [],
   "source": [
    "edge_index_adj, adj_weight= gcn_norm(data.edge_index, None, data.num_nodes, add_self_loops=False)\n",
    "edge_index_lap, lap_weight= get_laplacian(data.edge_index, None, \"sym\")\n",
    "shape = data.num_nodes\n",
    "adj_length = adj_weight.size()[0]\n",
    "lap_length = lap_weight.size()[0]\n",
    "adj = torch.zeros(shape, shape)\n",
    "lap = torch.zeros(shape, shape)\n",
    "\n",
    "for i in range(adj_length):\n",
    "    x1 = edge_index_adj[0][i]\n",
    "    y1 = edge_index_adj[1][i]\n",
    "    adj[x1][y1] = adj_weight[i]\n",
    "for i in range(lap_length): \n",
    "    x2 = edge_index_lap[0][i]\n",
    "    y2 = edge_index_lap[1][i]\n",
    "    lap[x2][y2] = lap_weight[i]\n"
   ]
  },
  {
   "cell_type": "code",
   "execution_count": 133,
   "metadata": {},
   "outputs": [
    {
     "data": {
      "text/plain": [
       "torch.Size([2, 10556])"
      ]
     },
     "execution_count": 133,
     "metadata": {},
     "output_type": "execute_result"
    }
   ],
   "source": [
    "edge_index_adj.size()\n"
   ]
  }
 ],
 "metadata": {
  "kernelspec": {
   "display_name": "Python 3.9.7 ('torch')",
   "language": "python",
   "name": "python3"
  },
  "language_info": {
   "codemirror_mode": {
    "name": "ipython",
    "version": 3
   },
   "file_extension": ".py",
   "mimetype": "text/x-python",
   "name": "python",
   "nbconvert_exporter": "python",
   "pygments_lexer": "ipython3",
   "version": "3.9.7"
  },
  "orig_nbformat": 4,
  "vscode": {
   "interpreter": {
    "hash": "ee9bcca9ed5e6d7a3eca33980a9be655eb25c7c82992aecdd8b3051d74c27db2"
   }
  }
 },
 "nbformat": 4,
 "nbformat_minor": 2
}
